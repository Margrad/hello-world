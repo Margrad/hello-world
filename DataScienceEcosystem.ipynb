{
 "cells": [
  {
   "cell_type": "markdown",
   "id": "0442bac9-4f66-4a47-90be-5b9a677be2ac",
   "metadata": {},
   "source": [
    "# Data Science Tools and Ecosystem"
   ]
  },
  {
   "cell_type": "markdown",
   "id": "9b7e3ca3-3b2b-418f-8bbd-6c86725e5d1d",
   "metadata": {},
   "source": [
    "In this notebook, Data Science Tools and Ecosystem are summarized."
   ]
  },
  {
   "cell_type": "markdown",
   "id": "9979a1e1-7569-4b67-aa27-117178a34057",
   "metadata": {},
   "source": [
    "**Objectives:**\n",
    " - List of popular languages for Data Science\n",
    " - list of some libraries used for Data Science\n",
    " - list of some tools used for Data science\n",
    " - Examples of arithmetics in python"
   ]
  },
  {
   "cell_type": "markdown",
   "id": "c5713081-2002-4a48-bb24-256c0e37456f",
   "metadata": {},
   "source": [
    "Some of the popular languages that Data Scientists use are:\n",
    "1. Python\n",
    "2. R\n",
    "3. C++"
   ]
  },
  {
   "cell_type": "markdown",
   "id": "b710c98c-9773-4ebb-9b15-146f8d96dcb2",
   "metadata": {},
   "source": [
    "Some of the commonly used libraries used by Data Scientists include:\n",
    "1. Pandas\n",
    "2. Numpy\n",
    "3. SKlearn"
   ]
  },
  {
   "cell_type": "markdown",
   "id": "735ed402-72b8-443a-8894-4568b40fc13c",
   "metadata": {},
   "source": [
    "|Data Science Tools|\n",
    "-------------------\n",
    "|Handook|\n",
    "|Airflow|\n",
    "|Jupyter Notebook|"
   ]
  },
  {
   "cell_type": "markdown",
   "id": "b78f8f49-6a0d-482c-abef-f325d27273ab",
   "metadata": {},
   "source": [
    "### Below are a few examples of evaluating arithmetic expressions in Python."
   ]
  },
  {
   "cell_type": "code",
   "execution_count": 1,
   "id": "305d6036-f3df-41fc-be78-2d1d6613d17b",
   "metadata": {},
   "outputs": [
    {
     "data": {
      "text/plain": [
       "17"
      ]
     },
     "execution_count": 1,
     "metadata": {},
     "output_type": "execute_result"
    }
   ],
   "source": [
    "# This a simple arithmetic expression to mutiply then add integers\n",
    "\n",
    "(3*4)+5"
   ]
  },
  {
   "cell_type": "code",
   "execution_count": 2,
   "id": "491023c9-6d1d-4056-938e-8ae750087bbb",
   "metadata": {},
   "outputs": [
    {
     "data": {
      "text/plain": [
       "3.3333333333333335"
      ]
     },
     "execution_count": 2,
     "metadata": {},
     "output_type": "execute_result"
    }
   ],
   "source": [
    "# This will convert 200 minutes to hours by diving by 60\n",
    "\n",
    "200/60"
   ]
  },
  {
   "cell_type": "markdown",
   "id": "f54adf1b-d1cc-4d76-85ff-e5004f387b66",
   "metadata": {},
   "source": [
    "## Author\n",
    "Marco"
   ]
  },
  {
   "cell_type": "code",
   "execution_count": null,
   "id": "c67cf21c-4760-4fd6-bb29-b219c869fdbb",
   "metadata": {},
   "outputs": [],
   "source": []
  }
 ],
 "metadata": {
  "kernelspec": {
   "display_name": "Python 3 (ipykernel)",
   "language": "python",
   "name": "python3"
  },
  "language_info": {
   "codemirror_mode": {
    "name": "ipython",
    "version": 3
   },
   "file_extension": ".py",
   "mimetype": "text/x-python",
   "name": "python",
   "nbconvert_exporter": "python",
   "pygments_lexer": "ipython3",
   "version": "3.12.3"
  }
 },
 "nbformat": 4,
 "nbformat_minor": 5
}
